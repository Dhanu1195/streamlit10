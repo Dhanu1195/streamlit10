{
 "cells": [
  {
   "cell_type": "code",
   "execution_count": 1,
   "metadata": {
    "executionInfo": {
     "elapsed": 56,
     "status": "ok",
     "timestamp": 1651468072937,
     "user": {
      "displayName": "Kalyan Reddy",
      "userId": "08922347389607307668"
     },
     "user_tz": -330
    },
    "id": "Ovk2KPbhIfES"
   },
   "outputs": [],
   "source": [
    "import pandas as pd\n",
    "import numpy as np\n",
    "from tqdm import tqdm\n",
    "tqdm.pandas()\n",
    "\n",
    "from scipy import stats"
   ]
  },
  {
   "cell_type": "code",
   "execution_count": null,
   "metadata": {
    "executionInfo": {
     "elapsed": 442,
     "status": "ok",
     "timestamp": 1651468069091,
     "user": {
      "displayName": "Kalyan Reddy",
      "userId": "08922347389607307668"
     },
     "user_tz": -330
    },
    "id": "9FPPst9KNrG3"
   },
   "outputs": [],
   "source": [
    "#Part One:"
   ]
  },
  {
   "cell_type": "code",
   "execution_count": null,
   "metadata": {
    "executionInfo": {
     "elapsed": 2942,
     "status": "ok",
     "timestamp": 1651468072933,
     "user": {
      "displayName": "Kalyan Reddy",
      "userId": "08922347389607307668"
     },
     "user_tz": -330
    },
    "id": "zI-hFSHvNuPk"
   },
   "outputs": [],
   "source": [
    "#1.Italic Numbers"
   ]
  },
  {
   "cell_type": "code",
   "execution_count": 2,
   "metadata": {
    "executionInfo": {
     "elapsed": 74,
     "status": "ok",
     "timestamp": 1651468072934,
     "user": {
      "displayName": "Kalyan Reddy",
      "userId": "08922347389607307668"
     },
     "user_tz": -330
    },
    "id": "z64UOvEt1VFO"
   },
   "outputs": [],
   "source": [
    "dict_given={\"orders\":[{\"id\":1},{\"id\":2},{\"id\":3},{\"id\":4},{\"id\":5},{\"id\":6},{\"id\":7},{\"id\":8},{\"id\":9},{\"id\":10},{\"id\":11},{\"id\":648},{\"id\":649},{\"id\":650},{\"id\":651},{\"id\":652},{\"id\":653}],\n",
    "            \"errors\":[{\"code\":3,\"message\":\"[PHP Warning #2] count(): Parameter must be an array or an object that implements Countable (153)\"}]}"
   ]
  },
  {
   "cell_type": "code",
   "execution_count": 3,
   "metadata": {
    "colab": {
     "base_uri": "https://localhost:8080/"
    },
    "executionInfo": {
     "elapsed": 73,
     "status": "ok",
     "timestamp": 1651468072935,
     "user": {
      "displayName": "Kalyan Reddy",
      "userId": "08922347389607307668"
     },
     "user_tz": -330
    },
    "id": "h0zBQ1ir4kpV",
    "outputId": "21d999f6-a18a-436e-9e86-bfa33c42ea1b"
   },
   "outputs": [
    {
     "name": "stdout",
     "output_type": "stream",
     "text": [
      "\u001b[3m1\n",
      "\u001b[3m2\n",
      "\u001b[3m3\n",
      "\u001b[3m4\n",
      "\u001b[3m5\n",
      "\u001b[3m6\n",
      "\u001b[3m7\n",
      "\u001b[3m8\n",
      "\u001b[3m9\n",
      "\u001b[3m10\n",
      "\u001b[3m11\n",
      "\u001b[3m648\n",
      "\u001b[3m649\n",
      "\u001b[3m650\n",
      "\u001b[3m651\n",
      "\u001b[3m652\n",
      "\u001b[3m653\n",
      "\u001b[3m3\n"
     ]
    }
   ],
   "source": [
    "for k in dict_given.keys():\n",
    "  if isinstance(dict_given[k],list):\n",
    "    for i in range(0,len(dict_given[k])):\n",
    "      if isinstance(dict_given[k][i],dict):\n",
    "        for j in dict_given[k][i].keys():\n",
    "          if isinstance(dict_given[k][i][j],int):\n",
    "            print('\\x1B[3m' + str(dict_given[k][i][j]))     # printing numbers in italics"
   ]
  },
  {
   "cell_type": "code",
   "execution_count": 4,
   "metadata": {
    "colab": {
     "base_uri": "https://localhost:8080/"
    },
    "executionInfo": {
     "elapsed": 62,
     "status": "ok",
     "timestamp": 1651468072936,
     "user": {
      "displayName": "Kalyan Reddy",
      "userId": "08922347389607307668"
     },
     "user_tz": -330
    },
    "id": "S5GwjMrs7ie6",
    "outputId": "93df1277-94d7-422f-9e12-7ad1d6ff3388"
   },
   "outputs": [
    {
     "name": "stdout",
     "output_type": "stream",
     "text": [
      "\u001b[3mHello! This is my output.\n"
     ]
    }
   ],
   "source": [
    "print('\\x1B[3m'+'Hello! This is my output.')"
   ]
  },
  {
   "cell_type": "code",
   "execution_count": null,
   "metadata": {
    "executionInfo": {
     "elapsed": 57,
     "status": "ok",
     "timestamp": 1651468072938,
     "user": {
      "displayName": "Kalyan Reddy",
      "userId": "08922347389607307668"
     },
     "user_tz": -330
    },
    "id": "gj_wBbYkPs1n"
   },
   "outputs": [],
   "source": [
    " #3.rank-correlation"
   ]
  },
  {
   "cell_type": "code",
   "execution_count": 5,
   "metadata": {
    "colab": {
     "base_uri": "https://localhost:8080/",
     "height": 354
    },
    "executionInfo": {
     "elapsed": 57,
     "status": "ok",
     "timestamp": 1651468072939,
     "user": {
      "displayName": "Kalyan Reddy",
      "userId": "08922347389607307668"
     },
     "user_tz": -330
    },
    "id": "pnm44tLyRyWm",
    "outputId": "53dbc966-b851-492c-8d6e-ac8409d4bb2d",
    "scrolled": false
   },
   "outputs": [
    {
     "data": {
      "text/html": [
       "<div>\n",
       "<style scoped>\n",
       "    .dataframe tbody tr th:only-of-type {\n",
       "        vertical-align: middle;\n",
       "    }\n",
       "\n",
       "    .dataframe tbody tr th {\n",
       "        vertical-align: top;\n",
       "    }\n",
       "\n",
       "    .dataframe thead th {\n",
       "        text-align: right;\n",
       "    }\n",
       "</style>\n",
       "<table border=\"1\" class=\"dataframe\">\n",
       "  <thead>\n",
       "    <tr style=\"text-align: right;\">\n",
       "      <th></th>\n",
       "      <th>ID</th>\n",
       "      <th>Keyword</th>\n",
       "      <th>rank</th>\n",
       "      <th>Country</th>\n",
       "      <th>Language</th>\n",
       "      <th>Date</th>\n",
       "      <th>App ID</th>\n",
       "      <th>Date of Last Description Change</th>\n",
       "      <th>Short Description</th>\n",
       "      <th>Long Description</th>\n",
       "    </tr>\n",
       "  </thead>\n",
       "  <tbody>\n",
       "    <tr>\n",
       "      <th>0</th>\n",
       "      <td>1</td>\n",
       "      <td>browser</td>\n",
       "      <td>2.0</td>\n",
       "      <td>in</td>\n",
       "      <td>en</td>\n",
       "      <td>16-12-2020</td>\n",
       "      <td>net.fast.web.browser</td>\n",
       "      <td>18-12-2020</td>\n",
       "      <td>The small, fastest, secure Web Browser, best m...</td>\n",
       "      <td>One of the smallest, fastest, secure Web Brows...</td>\n",
       "    </tr>\n",
       "    <tr>\n",
       "      <th>1</th>\n",
       "      <td>2</td>\n",
       "      <td>browser</td>\n",
       "      <td>3.0</td>\n",
       "      <td>in</td>\n",
       "      <td>en</td>\n",
       "      <td>16-12-2020</td>\n",
       "      <td>com.android.chrome</td>\n",
       "      <td>18-12-2020</td>\n",
       "      <td>Fast, simple, and secure. Google Chrome browse...</td>\n",
       "      <td>Google Chrome is a fast, easy to use, and secu...</td>\n",
       "    </tr>\n",
       "    <tr>\n",
       "      <th>2</th>\n",
       "      <td>3</td>\n",
       "      <td>browser</td>\n",
       "      <td>4.0</td>\n",
       "      <td>in</td>\n",
       "      <td>en</td>\n",
       "      <td>16-12-2020</td>\n",
       "      <td>com.opera.browser</td>\n",
       "      <td>27-02-2021</td>\n",
       "      <td>Fast, safe web browser: free VPN, Ad blocker, ...</td>\n",
       "      <td>Fast, safe and private, introducing the latest...</td>\n",
       "    </tr>\n",
       "    <tr>\n",
       "      <th>3</th>\n",
       "      <td>3</td>\n",
       "      <td>browser</td>\n",
       "      <td>4.0</td>\n",
       "      <td>in</td>\n",
       "      <td>en</td>\n",
       "      <td>16-12-2020</td>\n",
       "      <td>com.opera.browser</td>\n",
       "      <td>18-12-2020</td>\n",
       "      <td>Fast, safe web browser: free VPN, Ad blocker, ...</td>\n",
       "      <td>Opera is a fast, safe web browser for your And...</td>\n",
       "    </tr>\n",
       "    <tr>\n",
       "      <th>4</th>\n",
       "      <td>4</td>\n",
       "      <td>browser</td>\n",
       "      <td>1.0</td>\n",
       "      <td>in</td>\n",
       "      <td>en</td>\n",
       "      <td>16-12-2020</td>\n",
       "      <td>com.cloudmosa.puffinTV</td>\n",
       "      <td>07-02-2021</td>\n",
       "      <td>Puffin TV Browser - One App to Watch All Video...</td>\n",
       "      <td>Puffin TV Browser is a special edition of Puff...</td>\n",
       "    </tr>\n",
       "  </tbody>\n",
       "</table>\n",
       "</div>"
      ],
      "text/plain": [
       "   ID  Keyword  rank Country Language        Date                  App ID  \\\n",
       "0   1  browser   2.0      in       en  16-12-2020    net.fast.web.browser   \n",
       "1   2  browser   3.0      in       en  16-12-2020      com.android.chrome   \n",
       "2   3  browser   4.0      in       en  16-12-2020       com.opera.browser   \n",
       "3   3  browser   4.0      in       en  16-12-2020       com.opera.browser   \n",
       "4   4  browser   1.0      in       en  16-12-2020  com.cloudmosa.puffinTV   \n",
       "\n",
       "  Date of Last Description Change  \\\n",
       "0                      18-12-2020   \n",
       "1                      18-12-2020   \n",
       "2                      27-02-2021   \n",
       "3                      18-12-2020   \n",
       "4                      07-02-2021   \n",
       "\n",
       "                                   Short Description  \\\n",
       "0  The small, fastest, secure Web Browser, best m...   \n",
       "1  Fast, simple, and secure. Google Chrome browse...   \n",
       "2  Fast, safe web browser: free VPN, Ad blocker, ...   \n",
       "3  Fast, safe web browser: free VPN, Ad blocker, ...   \n",
       "4  Puffin TV Browser - One App to Watch All Video...   \n",
       "\n",
       "                                    Long Description  \n",
       "0  One of the smallest, fastest, secure Web Brows...  \n",
       "1  Google Chrome is a fast, easy to use, and secu...  \n",
       "2  Fast, safe and private, introducing the latest...  \n",
       "3  Opera is a fast, safe web browser for your And...  \n",
       "4  Puffin TV Browser is a special edition of Puff...  "
      ]
     },
     "execution_count": 5,
     "metadata": {},
     "output_type": "execute_result"
    }
   ],
   "source": [
    "rank_data=pd.read_csv('browser_rankings_data.csv')\n",
    "rank_data.head()"
   ]
  },
  {
   "cell_type": "code",
   "execution_count": 6,
   "metadata": {
    "colab": {
     "base_uri": "https://localhost:8080/"
    },
    "executionInfo": {
     "elapsed": 53,
     "status": "ok",
     "timestamp": 1651468072940,
     "user": {
      "displayName": "Kalyan Reddy",
      "userId": "08922347389607307668"
     },
     "user_tz": -330
    },
    "id": "Qe-0XXbjT020",
    "outputId": "2b6c27fe-1e54-4d96-cb1c-785c0b5de7e3"
   },
   "outputs": [
    {
     "data": {
      "text/plain": [
       "ID                                  0\n",
       "Keyword                             0\n",
       "rank                               16\n",
       "Country                             0\n",
       "Language                            0\n",
       "Date                                0\n",
       "App ID                              0\n",
       "Date of Last Description Change     0\n",
       "Short Description                   0\n",
       "Long Description                    0\n",
       "dtype: int64"
      ]
     },
     "execution_count": 6,
     "metadata": {},
     "output_type": "execute_result"
    }
   ],
   "source": [
    "rank_data.isnull().sum()"
   ]
  },
  {
   "cell_type": "code",
   "execution_count": 7,
   "metadata": {
    "colab": {
     "base_uri": "https://localhost:8080/"
    },
    "executionInfo": {
     "elapsed": 47,
     "status": "ok",
     "timestamp": 1651468072941,
     "user": {
      "displayName": "Kalyan Reddy",
      "userId": "08922347389607307668"
     },
     "user_tz": -330
    },
    "id": "P0D8QVgwT0o-",
    "outputId": "6f0b793d-e2a2-4124-a6a0-f99e9c7da4f6",
    "scrolled": true
   },
   "outputs": [
    {
     "data": {
      "text/plain": [
       "(3066, 10)"
      ]
     },
     "execution_count": 7,
     "metadata": {},
     "output_type": "execute_result"
    }
   ],
   "source": [
    "rank_data.shape"
   ]
  },
  {
   "cell_type": "code",
   "execution_count": 12,
   "metadata": {},
   "outputs": [
    {
     "data": {
      "text/plain": [
       "Index(['ID', 'Keyword', 'rank', 'Country', 'Language', 'Date', 'App ID',\n",
       "       'Date of Last Description Change', 'Short Description',\n",
       "       'Long Description'],\n",
       "      dtype='object')"
      ]
     },
     "execution_count": 12,
     "metadata": {},
     "output_type": "execute_result"
    }
   ],
   "source": [
    "rank_data.columns"
   ]
  },
  {
   "cell_type": "code",
   "execution_count": 13,
   "metadata": {
    "executionInfo": {
     "elapsed": 44,
     "status": "ok",
     "timestamp": 1651468072942,
     "user": {
      "displayName": "Kalyan Reddy",
      "userId": "08922347389607307668"
     },
     "user_tz": -330
    },
    "id": "b1gqb9GuT0Yw"
   },
   "outputs": [],
   "source": [
    "rank_data['rank'].fillna(value=rank_data['rank'].median(),inplace=True)"
   ]
  },
  {
   "cell_type": "code",
   "execution_count": null,
   "metadata": {
    "colab": {
     "base_uri": "https://localhost:8080/"
    },
    "executionInfo": {
     "elapsed": 44,
     "status": "ok",
     "timestamp": 1651468072943,
     "user": {
      "displayName": "Kalyan Reddy",
      "userId": "08922347389607307668"
     },
     "user_tz": -330
    },
    "id": "JtdAeVH1TzGs",
    "outputId": "a12cfd91-5dad-4291-e16e-3c0a0a9811da"
   },
   "outputs": [],
   "source": [
    "rank_data.isnull().sum()"
   ]
  },
  {
   "cell_type": "code",
   "execution_count": null,
   "metadata": {
    "executionInfo": {
     "elapsed": 42,
     "status": "ok",
     "timestamp": 1651468072944,
     "user": {
      "displayName": "Kalyan Reddy",
      "userId": "08922347389607307668"
     },
     "user_tz": -330
    },
    "id": "eL-GDITJWD_k"
   },
   "outputs": [],
   "source": [
    "#a.\n",
    "# We can find the relation between rank and short Description using one way annova test. "
   ]
  },
  {
   "cell_type": "code",
   "execution_count": 14,
   "metadata": {
    "executionInfo": {
     "elapsed": 42,
     "status": "ok",
     "timestamp": 1651468072945,
     "user": {
      "displayName": "Kalyan Reddy",
      "userId": "08922347389607307668"
     },
     "user_tz": -330
    },
    "id": "cD4FwaUGWm__"
   },
   "outputs": [],
   "source": [
    "# Null: There is no relation between rank and short description\n",
    "# Alternate: There is relation between rank and short description.\n",
    "cat_list=list(rank_data['Short Description'].unique())"
   ]
  },
  {
   "cell_type": "code",
   "execution_count": 15,
   "metadata": {
    "executionInfo": {
     "elapsed": 43,
     "status": "ok",
     "timestamp": 1651468072946,
     "user": {
      "displayName": "Kalyan Reddy",
      "userId": "08922347389607307668"
     },
     "user_tz": -330
    },
    "id": "Ngeyv3wnWyb0"
   },
   "outputs": [],
   "source": [
    "rank_cat1=rank_data[rank_data['Short Description']==cat_list[0]]['rank']\n",
    "rank_cat2=rank_data[rank_data['Short Description']==cat_list[1]]['rank']\n",
    "rank_cat3=rank_data[rank_data['Short Description']==cat_list[2]]['rank']\n",
    "rank_cat4=rank_data[rank_data['Short Description']==cat_list[3]]['rank']\n",
    "rank_cat5=rank_data[rank_data['Short Description']==cat_list[4]]['rank']\n",
    "rank_cat6=rank_data[rank_data['Short Description']==cat_list[5]]['rank']\n",
    "rank_cat7=rank_data[rank_data['Short Description']==cat_list[6]]['rank']\n",
    "rank_cat8=rank_data[rank_data['Short Description']==cat_list[7]]['rank']\n",
    "rank_cat9=rank_data[rank_data['Short Description']==cat_list[8]]['rank']"
   ]
  },
  {
   "cell_type": "code",
   "execution_count": 16,
   "metadata": {
    "colab": {
     "base_uri": "https://localhost:8080/"
    },
    "executionInfo": {
     "elapsed": 43,
     "status": "ok",
     "timestamp": 1651468072947,
     "user": {
      "displayName": "Kalyan Reddy",
      "userId": "08922347389607307668"
     },
     "user_tz": -330
    },
    "id": "pnHwpIDgXffI",
    "outputId": "f10630ee-6c6e-46ff-bc7a-ceee9c4e7297"
   },
   "outputs": [
    {
     "data": {
      "text/plain": [
       "F_onewayResult(statistic=704.8074561871447, pvalue=0.0)"
      ]
     },
     "execution_count": 16,
     "metadata": {},
     "output_type": "execute_result"
    }
   ],
   "source": [
    "stats.f_oneway(rank_cat1,rank_cat2,rank_cat3,rank_cat4,rank_cat5,rank_cat6,rank_cat7,rank_cat8,rank_cat9)"
   ]
  },
  {
   "cell_type": "code",
   "execution_count": null,
   "metadata": {
    "executionInfo": {
     "elapsed": 38,
     "status": "ok",
     "timestamp": 1651468072948,
     "user": {
      "displayName": "Kalyan Reddy",
      "userId": "08922347389607307668"
     },
     "user_tz": -330
    },
    "id": "KesskBR1YKyY"
   },
   "outputs": [],
   "source": [
    "# From the above test,pvalue is found out to be around 0 which is less than 0.05. So We reject NULL.So there is high correlation between \n",
    "# rank and short description."
   ]
  },
  {
   "cell_type": "code",
   "execution_count": null,
   "metadata": {
    "executionInfo": {
     "elapsed": 38,
     "status": "ok",
     "timestamp": 1651468072949,
     "user": {
      "displayName": "Kalyan Reddy",
      "userId": "08922347389607307668"
     },
     "user_tz": -330
    },
    "id": "SELv6ka0dHjq"
   },
   "outputs": [],
   "source": [
    "# We can find the relation between rank and Long Description using one way annova test. "
   ]
  },
  {
   "cell_type": "code",
   "execution_count": null,
   "metadata": {
    "executionInfo": {
     "elapsed": 39,
     "status": "ok",
     "timestamp": 1651468072950,
     "user": {
      "displayName": "Kalyan Reddy",
      "userId": "08922347389607307668"
     },
     "user_tz": -330
    },
    "id": "bn5JuUuxdQP6"
   },
   "outputs": [],
   "source": [
    "# Null: There is no relation between rank and long description\n",
    "# Alternate: There is relation between rank and long description."
   ]
  },
  {
   "cell_type": "code",
   "execution_count": 17,
   "metadata": {
    "executionInfo": {
     "elapsed": 39,
     "status": "ok",
     "timestamp": 1651468072951,
     "user": {
      "displayName": "Kalyan Reddy",
      "userId": "08922347389607307668"
     },
     "user_tz": -330
    },
    "id": "MGhLW9knVR19"
   },
   "outputs": [],
   "source": [
    "cat_longlist=list(rank_data['Long Description'].unique())"
   ]
  },
  {
   "cell_type": "code",
   "execution_count": 18,
   "metadata": {
    "executionInfo": {
     "elapsed": 40,
     "status": "ok",
     "timestamp": 1651468072952,
     "user": {
      "displayName": "Kalyan Reddy",
      "userId": "08922347389607307668"
     },
     "user_tz": -330
    },
    "id": "pkg7Xi3da_gn"
   },
   "outputs": [],
   "source": [
    "rank_cat_long1=rank_data[rank_data['Long Description']==cat_longlist[0]]['rank'] \n",
    "rank_cat_long2=rank_data[rank_data['Long Description']==cat_longlist[1]]['rank'] \n",
    "rank_cat_long3=rank_data[rank_data['Long Description']==cat_longlist[2]]['rank'] \n",
    "rank_cat_long4=rank_data[rank_data['Long Description']==cat_longlist[3]]['rank'] \n",
    "rank_cat_long5=rank_data[rank_data['Long Description']==cat_longlist[4]]['rank'] \n",
    "rank_cat_long6=rank_data[rank_data['Long Description']==cat_longlist[5]]['rank'] \n",
    "rank_cat_long7=rank_data[rank_data['Long Description']==cat_longlist[6]]['rank']\n",
    "rank_cat_long8=rank_data[rank_data['Long Description']==cat_longlist[7]]['rank'] \n",
    "rank_cat_long9=rank_data[rank_data['Long Description']==cat_longlist[8]]['rank']\n",
    "rank_cat_long10=rank_data[rank_data['Long Description']==cat_longlist[9]]['rank']\n",
    "rank_cat_long11=rank_data[rank_data['Long Description']==cat_longlist[10]]['rank']\n",
    "rank_cat_long12=rank_data[rank_data['Long Description']==cat_longlist[11]]['rank']\n",
    "rank_cat_long13=rank_data[rank_data['Long Description']==cat_longlist[12]]['rank']"
   ]
  },
  {
   "cell_type": "code",
   "execution_count": 19,
   "metadata": {
    "colab": {
     "base_uri": "https://localhost:8080/"
    },
    "executionInfo": {
     "elapsed": 40,
     "status": "ok",
     "timestamp": 1651468072953,
     "user": {
      "displayName": "Kalyan Reddy",
      "userId": "08922347389607307668"
     },
     "user_tz": -330
    },
    "id": "KnQc6vNhcqPR",
    "outputId": "3a76406f-1845-4eea-8e44-3e7a2b055a75"
   },
   "outputs": [
    {
     "data": {
      "text/plain": [
       "F_onewayResult(statistic=469.2568234084294, pvalue=0.0)"
      ]
     },
     "execution_count": 19,
     "metadata": {},
     "output_type": "execute_result"
    }
   ],
   "source": [
    "stats.f_oneway(rank_cat_long1,rank_cat_long2,rank_cat_long3,rank_cat_long4,rank_cat_long5,rank_cat_long6,rank_cat_long7,rank_cat_long8,rank_cat_long9,\n",
    "               rank_cat_long10,rank_cat_long11,rank_cat_long12,rank_cat_long13)"
   ]
  },
  {
   "cell_type": "code",
   "execution_count": null,
   "metadata": {
    "executionInfo": {
     "elapsed": 38,
     "status": "ok",
     "timestamp": 1651468072954,
     "user": {
      "displayName": "Kalyan Reddy",
      "userId": "08922347389607307668"
     },
     "user_tz": -330
    },
    "id": "-HzedhxEdzhB"
   },
   "outputs": [],
   "source": [
    "# From the above test,pvalue is found out to be around 0 which is less than 0.05. So We reject NULL.So there is high correlation between \n",
    "# rank and long description."
   ]
  },
  {
   "cell_type": "code",
   "execution_count": null,
   "metadata": {
    "executionInfo": {
     "elapsed": 38,
     "status": "ok",
     "timestamp": 1651468072955,
     "user": {
      "displayName": "Kalyan Reddy",
      "userId": "08922347389607307668"
     },
     "user_tz": -330
    },
    "id": "yev92KmSpZom"
   },
   "outputs": [],
   "source": [
    "# We can find the relation between short Description and Long Description using chi square test. "
   ]
  },
  {
   "cell_type": "code",
   "execution_count": null,
   "metadata": {
    "executionInfo": {
     "elapsed": 38,
     "status": "ok",
     "timestamp": 1651468072956,
     "user": {
      "displayName": "Kalyan Reddy",
      "userId": "08922347389607307668"
     },
     "user_tz": -330
    },
    "id": "maNDqbFipjOD"
   },
   "outputs": [],
   "source": [
    "# Null: There is no relation between short description and long description\n",
    "# Alternate: There is relation between short description and long description."
   ]
  },
  {
   "cell_type": "code",
   "execution_count": 20,
   "metadata": {
    "executionInfo": {
     "elapsed": 654,
     "status": "ok",
     "timestamp": 1651468073572,
     "user": {
      "displayName": "Kalyan Reddy",
      "userId": "08922347389607307668"
     },
     "user_tz": -330
    },
    "id": "YXehUCcJocLe"
   },
   "outputs": [],
   "source": [
    "a=pd.crosstab(rank_data['Short Description'],rank_data['Long Description'])"
   ]
  },
  {
   "cell_type": "code",
   "execution_count": 21,
   "metadata": {
    "executionInfo": {
     "elapsed": 57,
     "status": "ok",
     "timestamp": 1651468073573,
     "user": {
      "displayName": "Kalyan Reddy",
      "userId": "08922347389607307668"
     },
     "user_tz": -330
    },
    "id": "oXvrMLZ-owKm"
   },
   "outputs": [],
   "source": [
    "static,pvalue,degrees_freedom,values=stats.chi2_contingency(a.values)"
   ]
  },
  {
   "cell_type": "code",
   "execution_count": 22,
   "metadata": {
    "colab": {
     "base_uri": "https://localhost:8080/"
    },
    "executionInfo": {
     "elapsed": 57,
     "status": "ok",
     "timestamp": 1651468073574,
     "user": {
      "displayName": "Kalyan Reddy",
      "userId": "08922347389607307668"
     },
     "user_tz": -330
    },
    "id": "gIXKstBjpWUL",
    "outputId": "8250838b-cca0-49fe-be59-1930e3b60894"
   },
   "outputs": [
    {
     "name": "stdout",
     "output_type": "stream",
     "text": [
      "0.0\n"
     ]
    }
   ],
   "source": [
    "print(pvalue)"
   ]
  },
  {
   "cell_type": "code",
   "execution_count": null,
   "metadata": {
    "executionInfo": {
     "elapsed": 55,
     "status": "ok",
     "timestamp": 1651468073575,
     "user": {
      "displayName": "Kalyan Reddy",
      "userId": "08922347389607307668"
     },
     "user_tz": -330
    },
    "id": "_o7WSxD7qJDs"
   },
   "outputs": [],
   "source": [
    "## From the above test,pvalue is found out to be around 0 which is less than 0.05. So We reject NULL.So there is high correlation between \n",
    "# short description and long description."
   ]
  },
  {
   "cell_type": "code",
   "execution_count": null,
   "metadata": {
    "executionInfo": {
     "elapsed": 54,
     "status": "ok",
     "timestamp": 1651468073575,
     "user": {
      "displayName": "Kalyan Reddy",
      "userId": "08922347389607307668"
     },
     "user_tz": -330
    },
    "id": "kvOZzTVE3tSD"
   },
   "outputs": [],
   "source": [
    "# We create a new column to check whether keyword is present in first 10 words of short description."
   ]
  },
  {
   "cell_type": "code",
   "execution_count": 23,
   "metadata": {
    "executionInfo": {
     "elapsed": 54,
     "status": "ok",
     "timestamp": 1651468073576,
     "user": {
      "displayName": "Kalyan Reddy",
      "userId": "08922347389607307668"
     },
     "user_tz": -330
    },
    "id": "7tkm8PsH3tDq"
   },
   "outputs": [],
   "source": [
    "def find_value_column(x,y):\n",
    "    for i in y:\n",
    "        if x in i.lower():\n",
    "            return 1\n",
    "    else:\n",
    "        return 0"
   ]
  },
  {
   "cell_type": "code",
   "execution_count": 24,
   "metadata": {
    "executionInfo": {
     "elapsed": 54,
     "status": "ok",
     "timestamp": 1651468073577,
     "user": {
      "displayName": "Kalyan Reddy",
      "userId": "08922347389607307668"
     },
     "user_tz": -330
    },
    "id": "9uhhyxSw4Bfi"
   },
   "outputs": [],
   "source": [
    "rank_data['First 10 words in small description']=rank_data['Short Description'].map(lambda x:x.split(',')[0:10])"
   ]
  },
  {
   "cell_type": "code",
   "execution_count": 25,
   "metadata": {
    "executionInfo": {
     "elapsed": 53,
     "status": "ok",
     "timestamp": 1651468073577,
     "user": {
      "displayName": "Kalyan Reddy",
      "userId": "08922347389607307668"
     },
     "user_tz": -330
    },
    "id": "L6ciQBio3snA"
   },
   "outputs": [],
   "source": [
    "rank_data['keyword in first 10 words']=list(map(find_value_column,rank_data['Keyword'],rank_data['First 10 words in small description']))"
   ]
  },
  {
   "cell_type": "code",
   "execution_count": null,
   "metadata": {
    "executionInfo": {
     "elapsed": 53,
     "status": "ok",
     "timestamp": 1651468073578,
     "user": {
      "displayName": "Kalyan Reddy",
      "userId": "08922347389607307668"
     },
     "user_tz": -330
    },
    "id": "EUsJiM_T4Nvo"
   },
   "outputs": [],
   "source": [
    "# Now we do one way annova test."
   ]
  },
  {
   "cell_type": "code",
   "execution_count": null,
   "metadata": {
    "executionInfo": {
     "elapsed": 53,
     "status": "ok",
     "timestamp": 1651468073578,
     "user": {
      "displayName": "Kalyan Reddy",
      "userId": "08922347389607307668"
     },
     "user_tz": -330
    },
    "id": "DQOiJ3DH4Wb0"
   },
   "outputs": [],
   "source": [
    "# Null: keyword in first 10 words doesn't effect rank.\n",
    "# Alternate: keyword in first 10 words has an effect on rank."
   ]
  },
  {
   "cell_type": "code",
   "execution_count": 26,
   "metadata": {
    "executionInfo": {
     "elapsed": 53,
     "status": "ok",
     "timestamp": 1651468073579,
     "user": {
      "displayName": "Kalyan Reddy",
      "userId": "08922347389607307668"
     },
     "user_tz": -330
    },
    "id": "kgyOhVsZ4oa3"
   },
   "outputs": [],
   "source": [
    "rank_keycat1=rank_data[rank_data['keyword in first 10 words']==1]['rank']\n",
    "rank_keycat0=rank_data[rank_data['keyword in first 10 words']==0]['rank']"
   ]
  },
  {
   "cell_type": "code",
   "execution_count": 27,
   "metadata": {
    "colab": {
     "base_uri": "https://localhost:8080/"
    },
    "executionInfo": {
     "elapsed": 52,
     "status": "ok",
     "timestamp": 1651468073579,
     "user": {
      "displayName": "Kalyan Reddy",
      "userId": "08922347389607307668"
     },
     "user_tz": -330
    },
    "id": "Ja67vCPz4vHQ",
    "outputId": "561e2e0f-dd90-42af-fbf2-4e1b6c731e7d"
   },
   "outputs": [
    {
     "data": {
      "text/plain": [
       "F_onewayResult(statistic=172.4544657576237, pvalue=2.2955271746420092e-38)"
      ]
     },
     "execution_count": 27,
     "metadata": {},
     "output_type": "execute_result"
    }
   ],
   "source": [
    "stats.f_oneway(rank_keycat0,rank_keycat1)"
   ]
  },
  {
   "cell_type": "code",
   "execution_count": null,
   "metadata": {
    "executionInfo": {
     "elapsed": 49,
     "status": "ok",
     "timestamp": 1651468073580,
     "user": {
      "displayName": "Kalyan Reddy",
      "userId": "08922347389607307668"
     },
     "user_tz": -330
    },
    "id": "QMGQBY624yZv"
   },
   "outputs": [],
   "source": [
    "# P value is less than 0.05. So we reject NULL. Therefore keyword in first 10 words do have an effect on rank of the application."
   ]
  },
  {
   "cell_type": "code",
   "execution_count": null,
   "metadata": {
    "executionInfo": {
     "elapsed": 49,
     "status": "ok",
     "timestamp": 1651468073581,
     "user": {
      "displayName": "Kalyan Reddy",
      "userId": "08922347389607307668"
     },
     "user_tz": -330
    },
    "id": "DeWNqqku_m0E"
   },
   "outputs": [],
   "source": [
    "#b.\n",
    "# We perform one way annova between App ID and rank."
   ]
  },
  {
   "cell_type": "code",
   "execution_count": null,
   "metadata": {
    "executionInfo": {
     "elapsed": 48,
     "status": "ok",
     "timestamp": 1651468073581,
     "user": {
      "displayName": "Kalyan Reddy",
      "userId": "08922347389607307668"
     },
     "user_tz": -330
    },
    "id": "Ec6gwK8n9bzT"
   },
   "outputs": [],
   "source": [
    "# Null: App ID has no effect on rank.\n",
    "# Alternate: App ID has an effect on rank. "
   ]
  },
  {
   "cell_type": "code",
   "execution_count": 28,
   "metadata": {
    "executionInfo": {
     "elapsed": 48,
     "status": "ok",
     "timestamp": 1651468073582,
     "user": {
      "displayName": "Kalyan Reddy",
      "userId": "08922347389607307668"
     },
     "user_tz": -330
    },
    "id": "XeyS3ILU9bo1"
   },
   "outputs": [],
   "source": [
    "app_names=list(rank_data['App ID'].unique())"
   ]
  },
  {
   "cell_type": "code",
   "execution_count": 29,
   "metadata": {
    "executionInfo": {
     "elapsed": 48,
     "status": "ok",
     "timestamp": 1651468073582,
     "user": {
      "displayName": "Kalyan Reddy",
      "userId": "08922347389607307668"
     },
     "user_tz": -330
    },
    "id": "BXJPBdg-9bZ8"
   },
   "outputs": [],
   "source": [
    "rank_app1=rank_data[rank_data['App ID']==app_names[0]]['rank']\n",
    "rank_app2=rank_data[rank_data['App ID']==app_names[1]]['rank']\n",
    "rank_app3=rank_data[rank_data['App ID']==app_names[2]]['rank']\n",
    "rank_app4=rank_data[rank_data['App ID']==app_names[3]]['rank']\n",
    "rank_app5=rank_data[rank_data['App ID']==app_names[4]]['rank']\n",
    "rank_app6=rank_data[rank_data['App ID']==app_names[5]]['rank']\n",
    "rank_app7=rank_data[rank_data['App ID']==app_names[6]]['rank']\n",
    "rank_app8=rank_data[rank_data['App ID']==app_names[7]]['rank']"
   ]
  },
  {
   "cell_type": "code",
   "execution_count": 30,
   "metadata": {
    "colab": {
     "base_uri": "https://localhost:8080/"
    },
    "executionInfo": {
     "elapsed": 48,
     "status": "ok",
     "timestamp": 1651468073583,
     "user": {
      "displayName": "Kalyan Reddy",
      "userId": "08922347389607307668"
     },
     "user_tz": -330
    },
    "id": "u_e0cFkU9a8W",
    "outputId": "dcec086e-83e1-4057-c5b1-dd05e0b22e4b"
   },
   "outputs": [
    {
     "data": {
      "text/plain": [
       "F_onewayResult(statistic=805.7577273780227, pvalue=0.0)"
      ]
     },
     "execution_count": 30,
     "metadata": {},
     "output_type": "execute_result"
    }
   ],
   "source": [
    "stats.f_oneway(rank_app1,rank_app2,rank_app3,rank_app4,rank_app5,rank_app6,rank_app7,rank_app8)"
   ]
  },
  {
   "cell_type": "code",
   "execution_count": null,
   "metadata": {
    "executionInfo": {
     "elapsed": 44,
     "status": "ok",
     "timestamp": 1651468073584,
     "user": {
      "displayName": "Kalyan Reddy",
      "userId": "08922347389607307668"
     },
     "user_tz": -330
    },
    "id": "4s_1imTf_u5w"
   },
   "outputs": [],
   "source": [
    "# Since p value is less than 0.05. SO we reject NULL. So App ID do have an effect on rank."
   ]
  },
  {
   "cell_type": "code",
   "execution_count": null,
   "metadata": {
    "executionInfo": {
     "elapsed": 44,
     "status": "ok",
     "timestamp": 1651468073585,
     "user": {
      "displayName": "Kalyan Reddy",
      "userId": "08922347389607307668"
     },
     "user_tz": -330
    },
    "id": "QjENacJ5Bb6o"
   },
   "outputs": [],
   "source": [
    "# c.\n",
    "# Similarly We find whether last date change has an effect on rank."
   ]
  },
  {
   "cell_type": "code",
   "execution_count": null,
   "metadata": {
    "executionInfo": {
     "elapsed": 44,
     "status": "ok",
     "timestamp": 1651468073585,
     "user": {
      "displayName": "Kalyan Reddy",
      "userId": "08922347389607307668"
     },
     "user_tz": -330
    },
    "id": "Etsp3Py5BbFj"
   },
   "outputs": [],
   "source": [
    "# # Null:Last Date description change has no effect on rank.\n",
    "# Alternate: Last Date description change  has an effect on rank."
   ]
  },
  {
   "cell_type": "code",
   "execution_count": 31,
   "metadata": {
    "executionInfo": {
     "elapsed": 44,
     "status": "ok",
     "timestamp": 1651468073586,
     "user": {
      "displayName": "Kalyan Reddy",
      "userId": "08922347389607307668"
     },
     "user_tz": -330
    },
    "id": "7NRKYzjl_8yS"
   },
   "outputs": [],
   "source": [
    "datelist=list(rank_data['Date of Last Description Change'].unique())"
   ]
  },
  {
   "cell_type": "code",
   "execution_count": 32,
   "metadata": {
    "executionInfo": {
     "elapsed": 44,
     "status": "ok",
     "timestamp": 1651468073587,
     "user": {
      "displayName": "Kalyan Reddy",
      "userId": "08922347389607307668"
     },
     "user_tz": -330
    },
    "id": "PG-Tivh4BbcB"
   },
   "outputs": [],
   "source": [
    "rank_d1=rank_data[rank_data['Date of Last Description Change']==datelist[0]]['rank']\n",
    "rank_d2=rank_data[rank_data['Date of Last Description Change']==datelist[1]]['rank']\n",
    "rank_d3=rank_data[rank_data['Date of Last Description Change']==datelist[2]]['rank']\n",
    "rank_d4=rank_data[rank_data['Date of Last Description Change']==datelist[3]]['rank']\n",
    "rank_d5=rank_data[rank_data['Date of Last Description Change']==datelist[4]]['rank']\n",
    "rank_d6=rank_data[rank_data['Date of Last Description Change']==datelist[5]]['rank']"
   ]
  },
  {
   "cell_type": "code",
   "execution_count": 33,
   "metadata": {
    "colab": {
     "base_uri": "https://localhost:8080/"
    },
    "executionInfo": {
     "elapsed": 45,
     "status": "ok",
     "timestamp": 1651468073588,
     "user": {
      "displayName": "Kalyan Reddy",
      "userId": "08922347389607307668"
     },
     "user_tz": -330
    },
    "id": "Z2gx03yHB0m3",
    "outputId": "f8e7dd58-11d7-4f66-8826-912628e38e7b"
   },
   "outputs": [
    {
     "data": {
      "text/plain": [
       "F_onewayResult(statistic=51.64827709352842, pvalue=1.4461777755840314e-51)"
      ]
     },
     "execution_count": 33,
     "metadata": {},
     "output_type": "execute_result"
    }
   ],
   "source": [
    "stats.f_oneway(rank_d1,rank_d2,rank_d3,rank_d4,rank_d5,rank_d6)"
   ]
  },
  {
   "cell_type": "code",
   "execution_count": null,
   "metadata": {
    "executionInfo": {
     "elapsed": 41,
     "status": "ok",
     "timestamp": 1651468073589,
     "user": {
      "displayName": "Kalyan Reddy",
      "userId": "08922347389607307668"
     },
     "user_tz": -330
    },
    "id": "WALsKHzZB4XR"
   },
   "outputs": [],
   "source": [
    "# Since p value is less than 0.05. So We reject NULL. Therefore Last description change do have an effect on rank."
   ]
  },
  {
   "cell_type": "code",
   "execution_count": null,
   "metadata": {
    "executionInfo": {
     "elapsed": 42,
     "status": "ok",
     "timestamp": 1651468073590,
     "user": {
      "displayName": "Kalyan Reddy",
      "userId": "08922347389607307668"
     },
     "user_tz": -330
    },
    "id": "rCOvb-zIODtf"
   },
   "outputs": [],
   "source": [
    "#Part 2:Grammar Check."
   ]
  },
  {
   "cell_type": "code",
   "execution_count": 34,
   "metadata": {
    "colab": {
     "base_uri": "https://localhost:8080/"
    },
    "executionInfo": {
     "elapsed": 1917,
     "status": "ok",
     "timestamp": 1651468075466,
     "user": {
      "displayName": "Kalyan Reddy",
      "userId": "08922347389607307668"
     },
     "user_tz": -330
    },
    "id": "x45SG7eZ-G_S",
    "outputId": "602038ef-6d09-41e2-9894-5ac8ab9bae87"
   },
   "outputs": [
    {
     "name": "stdout",
     "output_type": "stream",
     "text": [
      "Collecting language_tool_python\n",
      "  Downloading language_tool_python-2.7.1-py3-none-any.whl (34 kB)\n",
      "Requirement already satisfied: requests in c:\\anaconda3\\lib\\site-packages (from language_tool_python) (2.26.0)\n",
      "Requirement already satisfied: tqdm in c:\\anaconda3\\lib\\site-packages (from language_tool_python) (4.62.3)\n",
      "Requirement already satisfied: urllib3<1.27,>=1.21.1 in c:\\anaconda3\\lib\\site-packages (from requests->language_tool_python) (1.26.7)\n",
      "Requirement already satisfied: idna<4,>=2.5 in c:\\anaconda3\\lib\\site-packages (from requests->language_tool_python) (3.2)\n",
      "Requirement already satisfied: charset-normalizer~=2.0.0 in c:\\anaconda3\\lib\\site-packages (from requests->language_tool_python) (2.0.4)\n",
      "Requirement already satisfied: certifi>=2017.4.17 in c:\\anaconda3\\lib\\site-packages (from requests->language_tool_python) (2021.10.8)\n",
      "Requirement already satisfied: colorama in c:\\anaconda3\\lib\\site-packages (from tqdm->language_tool_python) (0.4.4)\n",
      "Installing collected packages: language-tool-python\n",
      "Successfully installed language-tool-python-2.7.1\n"
     ]
    }
   ],
   "source": [
    "!pip install language_tool_python"
   ]
  },
  {
   "cell_type": "code",
   "execution_count": 35,
   "metadata": {
    "executionInfo": {
     "elapsed": 599,
     "status": "ok",
     "timestamp": 1651468076056,
     "user": {
      "displayName": "Kalyan Reddy",
      "userId": "08922347389607307668"
     },
     "user_tz": -330
    },
    "id": "grkXzXyBIUuB"
   },
   "outputs": [],
   "source": [
    "df=pd.read_csv('chrome_reviews.csv')"
   ]
  },
  {
   "cell_type": "code",
   "execution_count": 36,
   "metadata": {
    "colab": {
     "base_uri": "https://localhost:8080/",
     "height": 206
    },
    "executionInfo": {
     "elapsed": 21,
     "status": "ok",
     "timestamp": 1651468076058,
     "user": {
      "displayName": "Kalyan Reddy",
      "userId": "08922347389607307668"
     },
     "user_tz": -330
    },
    "id": "jO4g14R0IY2T",
    "outputId": "b5f451aa-b06e-40fd-9630-849e6755b2ea"
   },
   "outputs": [
    {
     "data": {
      "text/html": [
       "<div>\n",
       "<style scoped>\n",
       "    .dataframe tbody tr th:only-of-type {\n",
       "        vertical-align: middle;\n",
       "    }\n",
       "\n",
       "    .dataframe tbody tr th {\n",
       "        vertical-align: top;\n",
       "    }\n",
       "\n",
       "    .dataframe thead th {\n",
       "        text-align: right;\n",
       "    }\n",
       "</style>\n",
       "<table border=\"1\" class=\"dataframe\">\n",
       "  <thead>\n",
       "    <tr style=\"text-align: right;\">\n",
       "      <th></th>\n",
       "      <th>ID</th>\n",
       "      <th>Review URL</th>\n",
       "      <th>Text</th>\n",
       "      <th>Star</th>\n",
       "      <th>Thumbs Up</th>\n",
       "      <th>User Name</th>\n",
       "      <th>Developer Reply</th>\n",
       "      <th>Version</th>\n",
       "      <th>Review Date</th>\n",
       "      <th>App ID</th>\n",
       "    </tr>\n",
       "  </thead>\n",
       "  <tbody>\n",
       "    <tr>\n",
       "      <th>0</th>\n",
       "      <td>3886</td>\n",
       "      <td>https://play.google.com/store/apps/details?id=...</td>\n",
       "      <td>This is very helpfull aap.</td>\n",
       "      <td>5</td>\n",
       "      <td>0</td>\n",
       "      <td>INDIAN Knowledge</td>\n",
       "      <td>NaN</td>\n",
       "      <td>83.0.4103.106</td>\n",
       "      <td>2020-12-19</td>\n",
       "      <td>com.android.chrome</td>\n",
       "    </tr>\n",
       "    <tr>\n",
       "      <th>1</th>\n",
       "      <td>3887</td>\n",
       "      <td>https://play.google.com/store/apps/details?id=...</td>\n",
       "      <td>Good</td>\n",
       "      <td>3</td>\n",
       "      <td>2</td>\n",
       "      <td>Ijeoma Happiness</td>\n",
       "      <td>NaN</td>\n",
       "      <td>85.0.4183.127</td>\n",
       "      <td>2020-12-19</td>\n",
       "      <td>com.android.chrome</td>\n",
       "    </tr>\n",
       "    <tr>\n",
       "      <th>2</th>\n",
       "      <td>3888</td>\n",
       "      <td>https://play.google.com/store/apps/details?id=...</td>\n",
       "      <td>Not able to update. Neither able to uninstall.</td>\n",
       "      <td>1</td>\n",
       "      <td>0</td>\n",
       "      <td>Priti D BtCFs-29</td>\n",
       "      <td>NaN</td>\n",
       "      <td>85.0.4183.127</td>\n",
       "      <td>2020-12-19</td>\n",
       "      <td>com.android.chrome</td>\n",
       "    </tr>\n",
       "    <tr>\n",
       "      <th>3</th>\n",
       "      <td>3889</td>\n",
       "      <td>https://play.google.com/store/apps/details?id=...</td>\n",
       "      <td>Nice app</td>\n",
       "      <td>4</td>\n",
       "      <td>0</td>\n",
       "      <td>Ajeet Raja</td>\n",
       "      <td>NaN</td>\n",
       "      <td>77.0.3865.116</td>\n",
       "      <td>2020-12-19</td>\n",
       "      <td>com.android.chrome</td>\n",
       "    </tr>\n",
       "    <tr>\n",
       "      <th>4</th>\n",
       "      <td>3890</td>\n",
       "      <td>https://play.google.com/store/apps/details?id=...</td>\n",
       "      <td>Many unwanted ads</td>\n",
       "      <td>1</td>\n",
       "      <td>0</td>\n",
       "      <td>Rams Mp</td>\n",
       "      <td>NaN</td>\n",
       "      <td>87.0.4280.66</td>\n",
       "      <td>2020-12-19</td>\n",
       "      <td>com.android.chrome</td>\n",
       "    </tr>\n",
       "  </tbody>\n",
       "</table>\n",
       "</div>"
      ],
      "text/plain": [
       "     ID                                         Review URL  \\\n",
       "0  3886  https://play.google.com/store/apps/details?id=...   \n",
       "1  3887  https://play.google.com/store/apps/details?id=...   \n",
       "2  3888  https://play.google.com/store/apps/details?id=...   \n",
       "3  3889  https://play.google.com/store/apps/details?id=...   \n",
       "4  3890  https://play.google.com/store/apps/details?id=...   \n",
       "\n",
       "                                             Text  Star  Thumbs Up  \\\n",
       "0                      This is very helpfull aap.     5          0   \n",
       "1                                            Good     3          2   \n",
       "2  Not able to update. Neither able to uninstall.     1          0   \n",
       "3                                        Nice app     4          0   \n",
       "4                               Many unwanted ads     1          0   \n",
       "\n",
       "          User Name Developer Reply        Version Review Date  \\\n",
       "0  INDIAN Knowledge             NaN  83.0.4103.106  2020-12-19   \n",
       "1  Ijeoma Happiness             NaN  85.0.4183.127  2020-12-19   \n",
       "2  Priti D BtCFs-29             NaN  85.0.4183.127  2020-12-19   \n",
       "3        Ajeet Raja             NaN  77.0.3865.116  2020-12-19   \n",
       "4           Rams Mp             NaN   87.0.4280.66  2020-12-19   \n",
       "\n",
       "               App ID  \n",
       "0  com.android.chrome  \n",
       "1  com.android.chrome  \n",
       "2  com.android.chrome  \n",
       "3  com.android.chrome  \n",
       "4  com.android.chrome  "
      ]
     },
     "execution_count": 36,
     "metadata": {},
     "output_type": "execute_result"
    }
   ],
   "source": [
    "df.head()"
   ]
  },
  {
   "cell_type": "code",
   "execution_count": 37,
   "metadata": {
    "colab": {
     "base_uri": "https://localhost:8080/"
    },
    "executionInfo": {
     "elapsed": 18,
     "status": "ok",
     "timestamp": 1651468076059,
     "user": {
      "displayName": "Kalyan Reddy",
      "userId": "08922347389607307668"
     },
     "user_tz": -330
    },
    "id": "AYpmkimSIkjd",
    "outputId": "5bd27f1f-19b8-4107-9fb2-51da7ce6cacb"
   },
   "outputs": [
    {
     "data": {
      "text/plain": [
       "ID                    0\n",
       "Review URL            0\n",
       "Text                  1\n",
       "Star                  0\n",
       "Thumbs Up             0\n",
       "User Name             0\n",
       "Developer Reply    7109\n",
       "Version              85\n",
       "Review Date           0\n",
       "App ID                0\n",
       "dtype: int64"
      ]
     },
     "execution_count": 37,
     "metadata": {},
     "output_type": "execute_result"
    }
   ],
   "source": [
    "df.isna().sum()"
   ]
  },
  {
   "cell_type": "code",
   "execution_count": 43,
   "metadata": {
    "executionInfo": {
     "elapsed": 13,
     "status": "ok",
     "timestamp": 1651468076061,
     "user": {
      "displayName": "Kalyan Reddy",
      "userId": "08922347389607307668"
     },
     "user_tz": -330
    },
    "id": "zsZ05z3PInUh"
   },
   "outputs": [],
   "source": [
    "df.dropna(subset=['Text'],inplace=True)"
   ]
  },
  {
   "cell_type": "code",
   "execution_count": null,
   "metadata": {
    "colab": {
     "base_uri": "https://localhost:8080/"
    },
    "executionInfo": {
     "elapsed": 16000,
     "status": "ok",
     "timestamp": 1651468092048,
     "user": {
      "displayName": "Kalyan Reddy",
      "userId": "08922347389607307668"
     },
     "user_tz": -330
    },
    "id": "BNnBQb9gIpQX",
    "outputId": "0d6d4891-3d7a-4525-8dd6-4f236e5fa672",
    "scrolled": false
   },
   "outputs": [],
   "source": [
    "import language_tool_python\n",
    "tool = language_tool_python.LanguageTool('en-US')   # Importing the model."
   ]
  },
  {
   "cell_type": "code",
   "execution_count": null,
   "metadata": {
    "executionInfo": {
     "elapsed": 28,
     "status": "ok",
     "timestamp": 1651468092049,
     "user": {
      "displayName": "Kalyan Reddy",
      "userId": "08922347389607307668"
     },
     "user_tz": -330
    },
    "id": "nA8m50xjIrV-"
   },
   "outputs": [],
   "source": [
    "def checkgrammar(x):\n",
    "  matches =tool.check(x)\n",
    "  if len(matches)==0:\n",
    "    return 'Grammatically Correct'\n",
    "  else:\n",
    "    return 'Grammatically Incorrect'                 # define a function to check"
   ]
  },
  {
   "cell_type": "code",
   "execution_count": null,
   "metadata": {
    "colab": {
     "base_uri": "https://localhost:8080/"
    },
    "executionInfo": {
     "elapsed": 1347555,
     "status": "ok",
     "timestamp": 1651469439578,
     "user": {
      "displayName": "Kalyan Reddy",
      "userId": "08922347389607307668"
     },
     "user_tz": -330
    },
    "id": "D2euCi4OIwvk",
    "outputId": "62eab4c3-95d0-4952-deeb-ba066597e94c"
   },
   "outputs": [],
   "source": [
    "df['noofmistakes']=df['text'].progress_map(checkgrammar)    # Apply on all the rows."
   ]
  },
  {
   "cell_type": "code",
   "execution_count": null,
   "metadata": {
    "colab": {
     "base_uri": "https://localhost:8080/"
    },
    "executionInfo": {
     "elapsed": 62,
     "status": "ok",
     "timestamp": 1651469439581,
     "user": {
      "displayName": "Kalyan Reddy",
      "userId": "08922347389607307668"
     },
     "user_tz": -330
    },
    "id": "ZQF2ah7vIzXs",
    "outputId": "a82f1626-87ef-4f83-e60c-b5887c587dc0"
   },
   "outputs": [],
   "source": [
    "df['noofmistakes'].value_counts()/len(df)*100             # Percentage of correct and incorrect."
   ]
  },
  {
   "cell_type": "code",
   "execution_count": null,
   "metadata": {
    "executionInfo": {
     "elapsed": 16,
     "status": "ok",
     "timestamp": 1651469439583,
     "user": {
      "displayName": "Kalyan Reddy",
      "userId": "08922347389607307668"
     },
     "user_tz": -330
    },
    "id": "LWltCJUCNmep"
   },
   "outputs": [],
   "source": []
  }
 ],
 "metadata": {
  "accelerator": "TPU",
  "colab": {
   "authorship_tag": "ABX9TyMW98SWmN2nafVAAtkpsRbP",
   "collapsed_sections": [],
   "name": "Solutions.ipynb",
   "provenance": []
  },
  "kernelspec": {
   "display_name": "Python 3 (ipykernel)",
   "language": "python",
   "name": "python3"
  },
  "language_info": {
   "codemirror_mode": {
    "name": "ipython",
    "version": 3
   },
   "file_extension": ".py",
   "mimetype": "text/x-python",
   "name": "python",
   "nbconvert_exporter": "python",
   "pygments_lexer": "ipython3",
   "version": "3.9.7"
  }
 },
 "nbformat": 4,
 "nbformat_minor": 1
}
